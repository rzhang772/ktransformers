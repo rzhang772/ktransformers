{
 "cells": [
  {
   "cell_type": "code",
   "execution_count": 3,
   "id": "c4789896",
   "metadata": {},
   "outputs": [
    {
     "name": "stdout",
     "output_type": "stream",
     "text": [
      "                                                   x  \\\n",
      "0  [0.3030138533582116, 0.6712399866387153, 0.361...   \n",
      "1  [0.3516107207568504, 0.605682316092597, 0.9822...   \n",
      "2  [0.30424811830520104, 0.39276607731198265, 0.8...   \n",
      "3  [0.07439907945787438, 0.6075642291454495, 0.80...   \n",
      "4  [0.06436289812511797, 0.8000812882522669, 0.13...   \n",
      "\n",
      "                                            y  \n",
      "0  [0.08598679291478462, 0.02774622628993273]  \n",
      "1    [0.7318663135247675, 0.7244321485864631]  \n",
      "2   [0.9338693048944986, 0.23047153439460855]  \n",
      "3     [0.850913288204863, 0.9686055308276817]  \n",
      "4    [0.6035661798811656, 0.6801631786361815]  \n",
      "x shape: torch.Size([16, 5])\n",
      "y shape: torch.Size([16, 2])\n"
     ]
    }
   ],
   "source": [
    "import torch\n",
    "from torch.utils.data import Dataset, DataLoader\n",
    "import pandas as pd\n",
    "import numpy as np\n",
    "\n",
    "# 1. 构建DataFrame\n",
    "df = pd.DataFrame({\n",
    "    'x': [np.random.rand(5).tolist() for _ in range(100)],   # 5维特征\n",
    "    'y': [np.random.rand(2).tolist() for _ in range(100)]    # 2维标签\n",
    "})\n",
    "print(df.head())\n",
    "# 2. 定义自定义Dataset类\n",
    "class ListDataset(Dataset):\n",
    "    def __init__(self, dataframe):\n",
    "        self.x = torch.tensor(dataframe['x'].tolist(), dtype=torch.float32)\n",
    "        self.y = torch.tensor(dataframe['y'].tolist(), dtype=torch.float32)\n",
    "\n",
    "    def __len__(self):\n",
    "        return len(self.x)\n",
    "\n",
    "    def __getitem__(self, idx):\n",
    "        return self.x[idx], self.y[idx]\n",
    "\n",
    "# 3. 实例化数据集\n",
    "dataset = ListDataset(df)\n",
    "\n",
    "# 4. 可选：使用DataLoader封装\n",
    "dataloader = DataLoader(dataset, batch_size=16, shuffle=True)\n",
    "\n",
    "# 5. 测试读取一个batch\n",
    "for batch_x, batch_y in dataloader:\n",
    "    print(\"x shape:\", batch_x.shape)  # torch.Size([16, 5])\n",
    "    print(\"y shape:\", batch_y.shape)  # torch.Size([16, 2])\n",
    "    break"
   ]
  }
 ],
 "metadata": {
  "kernelspec": {
   "display_name": "base",
   "language": "python",
   "name": "python3"
  },
  "language_info": {
   "codemirror_mode": {
    "name": "ipython",
    "version": 3
   },
   "file_extension": ".py",
   "mimetype": "text/x-python",
   "name": "python",
   "nbconvert_exporter": "python",
   "pygments_lexer": "ipython3",
   "version": "3.11.10"
  }
 },
 "nbformat": 4,
 "nbformat_minor": 5
}
